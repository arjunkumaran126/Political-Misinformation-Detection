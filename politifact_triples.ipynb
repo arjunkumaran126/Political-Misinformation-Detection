{
  "cells": [
    {
      "cell_type": "code",
      "execution_count": null,
      "id": "d1dd1e78",
      "metadata": {
        "id": "d1dd1e78"
      },
      "outputs": [],
      "source": [
        "import pandas as pd\n",
        "from openai import OpenAI\n",
        "import os\n",
        "from tqdm.auto import tqdm\n",
        "tqdm.pandas(desc=\"Processing statements\")"
      ]
    },
    {
      "cell_type": "code",
      "execution_count": null,
      "id": "12635bb9",
      "metadata": {
        "id": "12635bb9"
      },
      "outputs": [],
      "source": [
        "os.environ[\"OPENAI_API_KEY\"] = 'XXXXX'\n",
        "\n",
        "# Initialize the OpenAI client using the environment variable\n",
        "client = OpenAI(api_key=os.environ.get(\"OPENAI_API_KEY\"))"
      ]
    },
    {
      "cell_type": "code",
      "execution_count": null,
      "id": "c8aa8637",
      "metadata": {
        "id": "c8aa8637"
      },
      "outputs": [],
      "source": [
        "dat = pd.read_csv(\"data_politifact.csv\")"
      ]
    },
    {
      "cell_type": "code",
      "execution_count": null,
      "id": "3f4cf0ae",
      "metadata": {
        "id": "3f4cf0ae"
      },
      "outputs": [],
      "source": [
        "dat = dat[dat['verdict'].isin(['true', 'false'])]"
      ]
    },
    {
      "cell_type": "code",
      "execution_count": null,
      "id": "ccbd2844",
      "metadata": {
        "id": "ccbd2844"
      },
      "outputs": [],
      "source": [
        "dat = dat[dat['statement_source'].isin(['speech'])]"
      ]
    },
    {
      "cell_type": "code",
      "execution_count": null,
      "id": "24a76cba",
      "metadata": {
        "id": "24a76cba",
        "outputId": "a3f35e02-d3fd-48b8-a4f1-b6249f1ceda7"
      },
      "outputs": [
        {
          "data": {
            "text/plain": [
              "'Says he lived in a colonia while working as a farm worker.'"
            ]
          },
          "execution_count": 14,
          "metadata": {},
          "output_type": "execute_result"
        }
      ],
      "source": [
        "dat['statement'].iloc[1]"
      ]
    },
    {
      "cell_type": "code",
      "execution_count": null,
      "id": "79b5f210",
      "metadata": {
        "id": "79b5f210"
      },
      "outputs": [],
      "source": [
        "def triple(paragraph):\n",
        "    completion = client.chat.completions.create(\n",
        "        model=\"gpt-4-1106-preview\",\n",
        "        messages=[\n",
        "            {\"role\": \"user\",\n",
        "             \"content\": f\"From the paragraph below, extract a set of triples to construct a graph. Each triple needs to be in the following format: subject | predicate | object. \\\n",
        "                          Paragraph: {paragraph} \\\n",
        "                          In the output, please directly provide the output without any beginning sentence. Avoid contraction in the output. Start a new line for each triple.\"\n",
        "                         }\n",
        "        ])\n",
        "    # Return the model's response\n",
        "    return completion.choices[0].message.content"
      ]
    },
    {
      "cell_type": "code",
      "execution_count": null,
      "id": "8b7d9ff7",
      "metadata": {
        "id": "8b7d9ff7",
        "outputId": "a7a73293-56ff-4fc5-809b-716662e403e0"
      },
      "outputs": [
        {
          "data": {
            "text/html": [
              "<div>\n",
              "<style scoped>\n",
              "    .dataframe tbody tr th:only-of-type {\n",
              "        vertical-align: middle;\n",
              "    }\n",
              "\n",
              "    .dataframe tbody tr th {\n",
              "        vertical-align: top;\n",
              "    }\n",
              "\n",
              "    .dataframe thead th {\n",
              "        text-align: right;\n",
              "    }\n",
              "</style>\n",
              "<table border=\"1\" class=\"dataframe\">\n",
              "  <thead>\n",
              "    <tr style=\"text-align: right;\">\n",
              "      <th></th>\n",
              "      <th>verdict</th>\n",
              "      <th>statement_originator</th>\n",
              "      <th>statement</th>\n",
              "      <th>statement_date</th>\n",
              "      <th>statement_source</th>\n",
              "      <th>factchecker</th>\n",
              "      <th>factcheck_date</th>\n",
              "      <th>factcheck_analysis_link</th>\n",
              "      <th>text</th>\n",
              "    </tr>\n",
              "  </thead>\n",
              "  <tbody>\n",
              "    <tr>\n",
              "      <th>0</th>\n",
              "      <td>true</td>\n",
              "      <td>Barack Obama</td>\n",
              "      <td>John McCain opposed bankruptcy protections for...</td>\n",
              "      <td>6/11/2008</td>\n",
              "      <td>speech</td>\n",
              "      <td>Adriel Bettelheim</td>\n",
              "      <td>6/16/2008</td>\n",
              "      <td>https://www.politifact.com/factchecks/2008/jun...</td>\n",
              "      <td>Trying to portray his opponent as insensitive ...</td>\n",
              "    </tr>\n",
              "    <tr>\n",
              "      <th>31</th>\n",
              "      <td>false</td>\n",
              "      <td>David Alameel</td>\n",
              "      <td>Says he lived in a colonia while working as a ...</td>\n",
              "      <td>6/28/2014</td>\n",
              "      <td>speech</td>\n",
              "      <td>W. Gardner Selby</td>\n",
              "      <td>7/2/2014</td>\n",
              "      <td>https://www.politifact.com/factchecks/2014/jul...</td>\n",
              "      <td>David Alameel, the Democratic nominee challeng...</td>\n",
              "    </tr>\n",
              "    <tr>\n",
              "      <th>93</th>\n",
              "      <td>false</td>\n",
              "      <td>Georgia state senators</td>\n",
              "      <td>Say easing restrictions on selling alcohol on ...</td>\n",
              "      <td>3/16/2011</td>\n",
              "      <td>speech</td>\n",
              "      <td>Eric Stirgus</td>\n",
              "      <td>3/18/2011</td>\n",
              "      <td>https://www.politifact.com/factchecks/2011/mar...</td>\n",
              "      <td>Some Georgia senators opposed to a controversi...</td>\n",
              "    </tr>\n",
              "    <tr>\n",
              "      <th>108</th>\n",
              "      <td>true</td>\n",
              "      <td>Jeff Kottkamp</td>\n",
              "      <td>\"I've taken on the federal government and won.\"</td>\n",
              "      <td>7/31/2010</td>\n",
              "      <td>speech</td>\n",
              "      <td>Aaron Sharockman</td>\n",
              "      <td>8/11/2010</td>\n",
              "      <td>https://www.politifact.com/factchecks/2010/aug...</td>\n",
              "      <td>Lt. Gov. Jeff Kottkamp, a Republican running f...</td>\n",
              "    </tr>\n",
              "    <tr>\n",
              "      <th>122</th>\n",
              "      <td>false</td>\n",
              "      <td>Chris Christie</td>\n",
              "      <td>Says the national health care law puts federal...</td>\n",
              "      <td>8/28/2012</td>\n",
              "      <td>speech</td>\n",
              "      <td>Erin O'Neill</td>\n",
              "      <td>8/30/2012</td>\n",
              "      <td>https://www.politifact.com/factchecks/2012/aug...</td>\n",
              "      <td>The truth can be difficult.So difficult that e...</td>\n",
              "    </tr>\n",
              "    <tr>\n",
              "      <th>...</th>\n",
              "      <td>...</td>\n",
              "      <td>...</td>\n",
              "      <td>...</td>\n",
              "      <td>...</td>\n",
              "      <td>...</td>\n",
              "      <td>...</td>\n",
              "      <td>...</td>\n",
              "      <td>...</td>\n",
              "      <td>...</td>\n",
              "    </tr>\n",
              "    <tr>\n",
              "      <th>21125</th>\n",
              "      <td>false</td>\n",
              "      <td>Rick Santorum</td>\n",
              "      <td>\"President Obama once said he wants everybody ...</td>\n",
              "      <td>2/25/2012</td>\n",
              "      <td>speech</td>\n",
              "      <td>Louis Jacobson</td>\n",
              "      <td>2/27/2012</td>\n",
              "      <td>https://www.politifact.com/factchecks/2012/feb...</td>\n",
              "      <td>Republican presidential candidate Rick Santoru...</td>\n",
              "    </tr>\n",
              "    <tr>\n",
              "      <th>21128</th>\n",
              "      <td>true</td>\n",
              "      <td>Barack Obama</td>\n",
              "      <td>During Lyndon B. Johnson’s first 20 years in C...</td>\n",
              "      <td>4/10/2014</td>\n",
              "      <td>speech</td>\n",
              "      <td>W. Gardner Selby</td>\n",
              "      <td>4/14/2014</td>\n",
              "      <td>https://www.politifact.com/factchecks/2014/apr...</td>\n",
              "      <td>President Lyndon B. Johnson of Texas was laude...</td>\n",
              "    </tr>\n",
              "    <tr>\n",
              "      <th>21129</th>\n",
              "      <td>true</td>\n",
              "      <td>Leticia Van de Putte</td>\n",
              "      <td>Dan Patrick was the only state senator \"who vo...</td>\n",
              "      <td>6/27/2014</td>\n",
              "      <td>speech</td>\n",
              "      <td>W. Gardner Selby</td>\n",
              "      <td>7/3/2014</td>\n",
              "      <td>https://www.politifact.com/factchecks/2014/jul...</td>\n",
              "      <td>Democrat Leticia Van de Putte told her party’s...</td>\n",
              "    </tr>\n",
              "    <tr>\n",
              "      <th>21136</th>\n",
              "      <td>false</td>\n",
              "      <td>David Dewhurst</td>\n",
              "      <td>\"Phoenix, Arizona, I'm told, is now the No. 2 ...</td>\n",
              "      <td>6/11/2010</td>\n",
              "      <td>speech</td>\n",
              "      <td>Ciara O'Rourke</td>\n",
              "      <td>6/18/2010</td>\n",
              "      <td>https://www.politifact.com/factchecks/2010/jun...</td>\n",
              "      <td>Curbing illegal immigration was a leading war ...</td>\n",
              "    </tr>\n",
              "    <tr>\n",
              "      <th>21144</th>\n",
              "      <td>false</td>\n",
              "      <td>Hillary Clinton</td>\n",
              "      <td>\"We now have driven (health care) costs down t...</td>\n",
              "      <td>1/17/2016</td>\n",
              "      <td>speech</td>\n",
              "      <td>C. Eugene Emery Jr.</td>\n",
              "      <td>1/18/2016</td>\n",
              "      <td>https://www.politifact.com/factchecks/2016/jan...</td>\n",
              "      <td>During the Jan. 17 Democratic presidential deb...</td>\n",
              "    </tr>\n",
              "  </tbody>\n",
              "</table>\n",
              "<p>1186 rows × 9 columns</p>\n",
              "</div>"
            ],
            "text/plain": [
              "      verdict    statement_originator  \\\n",
              "0        true            Barack Obama   \n",
              "31      false           David Alameel   \n",
              "93      false  Georgia state senators   \n",
              "108      true           Jeff Kottkamp   \n",
              "122     false          Chris Christie   \n",
              "...       ...                     ...   \n",
              "21125   false           Rick Santorum   \n",
              "21128    true            Barack Obama   \n",
              "21129    true    Leticia Van de Putte   \n",
              "21136   false          David Dewhurst   \n",
              "21144   false         Hillary Clinton   \n",
              "\n",
              "                                               statement statement_date  \\\n",
              "0      John McCain opposed bankruptcy protections for...      6/11/2008   \n",
              "31     Says he lived in a colonia while working as a ...      6/28/2014   \n",
              "93     Say easing restrictions on selling alcohol on ...      3/16/2011   \n",
              "108      \"I've taken on the federal government and won.\"      7/31/2010   \n",
              "122    Says the national health care law puts federal...      8/28/2012   \n",
              "...                                                  ...            ...   \n",
              "21125  \"President Obama once said he wants everybody ...      2/25/2012   \n",
              "21128  During Lyndon B. Johnson’s first 20 years in C...      4/10/2014   \n",
              "21129  Dan Patrick was the only state senator \"who vo...      6/27/2014   \n",
              "21136  \"Phoenix, Arizona, I'm told, is now the No. 2 ...      6/11/2010   \n",
              "21144  \"We now have driven (health care) costs down t...      1/17/2016   \n",
              "\n",
              "      statement_source          factchecker factcheck_date  \\\n",
              "0               speech    Adriel Bettelheim      6/16/2008   \n",
              "31              speech     W. Gardner Selby       7/2/2014   \n",
              "93              speech         Eric Stirgus      3/18/2011   \n",
              "108             speech     Aaron Sharockman      8/11/2010   \n",
              "122             speech         Erin O'Neill      8/30/2012   \n",
              "...                ...                  ...            ...   \n",
              "21125           speech       Louis Jacobson      2/27/2012   \n",
              "21128           speech     W. Gardner Selby      4/14/2014   \n",
              "21129           speech     W. Gardner Selby       7/3/2014   \n",
              "21136           speech       Ciara O'Rourke      6/18/2010   \n",
              "21144           speech  C. Eugene Emery Jr.      1/18/2016   \n",
              "\n",
              "                                 factcheck_analysis_link  \\\n",
              "0      https://www.politifact.com/factchecks/2008/jun...   \n",
              "31     https://www.politifact.com/factchecks/2014/jul...   \n",
              "93     https://www.politifact.com/factchecks/2011/mar...   \n",
              "108    https://www.politifact.com/factchecks/2010/aug...   \n",
              "122    https://www.politifact.com/factchecks/2012/aug...   \n",
              "...                                                  ...   \n",
              "21125  https://www.politifact.com/factchecks/2012/feb...   \n",
              "21128  https://www.politifact.com/factchecks/2014/apr...   \n",
              "21129  https://www.politifact.com/factchecks/2014/jul...   \n",
              "21136  https://www.politifact.com/factchecks/2010/jun...   \n",
              "21144  https://www.politifact.com/factchecks/2016/jan...   \n",
              "\n",
              "                                                    text  \n",
              "0      Trying to portray his opponent as insensitive ...  \n",
              "31     David Alameel, the Democratic nominee challeng...  \n",
              "93     Some Georgia senators opposed to a controversi...  \n",
              "108    Lt. Gov. Jeff Kottkamp, a Republican running f...  \n",
              "122    The truth can be difficult.So difficult that e...  \n",
              "...                                                  ...  \n",
              "21125  Republican presidential candidate Rick Santoru...  \n",
              "21128  President Lyndon B. Johnson of Texas was laude...  \n",
              "21129  Democrat Leticia Van de Putte told her party’s...  \n",
              "21136  Curbing illegal immigration was a leading war ...  \n",
              "21144  During the Jan. 17 Democratic presidential deb...  \n",
              "\n",
              "[1186 rows x 9 columns]"
            ]
          },
          "execution_count": 44,
          "metadata": {},
          "output_type": "execute_result"
        }
      ],
      "source": [
        "dat"
      ]
    },
    {
      "cell_type": "code",
      "execution_count": null,
      "id": "88248fe9",
      "metadata": {
        "id": "88248fe9",
        "outputId": "7c1c672b-dce9-4c0a-8abb-8c22b9a364da",
        "colab": {
          "referenced_widgets": [
            "7e111033c8fe4db0ae05726e73637484"
          ]
        }
      },
      "outputs": [
        {
          "data": {
            "application/vnd.jupyter.widget-view+json": {
              "model_id": "7e111033c8fe4db0ae05726e73637484",
              "version_major": 2,
              "version_minor": 0
            },
            "text/plain": [
              "Processing statements:   0%|          | 0/1186 [00:00<?, ?it/s]"
            ]
          },
          "metadata": {},
          "output_type": "display_data"
        }
      ],
      "source": [
        "# Assuming 'dat' is your DataFrame and 'triple' is your function.\n",
        "statement_triple = dat['statement'].progress_apply(triple)"
      ]
    },
    {
      "cell_type": "code",
      "execution_count": null,
      "id": "c6fee85a",
      "metadata": {
        "id": "c6fee85a",
        "outputId": "beb2f8ac-f868-4d68-d714-05b2a0d6c53c"
      },
      "outputs": [
        {
          "data": {
            "text/plain": [
              "0        John McCain | opposed | bankruptcy protections...\n",
              "31       he | lived in | a colonia\\nhe | worked as | a ...\n",
              "93       easing restrictions | results in | more traffi...\n",
              "108      I | have taken on | the federal government\\nI ...\n",
              "122      national health care law | puts | bureaucrats\\...\n",
              "                               ...                        \n",
              "21125    President Obama | once said | he wants everybo...\n",
              "21128    Lyndon B. Johnson | tenure in Congress | first...\n",
              "21129    Dan Patrick | voted against | Veteran Entrepre...\n",
              "21136    Phoenix, Arizona | is | No. 2 kidnapping capit...\n",
              "21144    health care costs | have been driven down | to...\n",
              "Name: statement, Length: 1186, dtype: object"
            ]
          },
          "execution_count": 55,
          "metadata": {},
          "output_type": "execute_result"
        }
      ],
      "source": [
        "statement_triple"
      ]
    },
    {
      "cell_type": "code",
      "execution_count": null,
      "id": "dac3cde5",
      "metadata": {
        "id": "dac3cde5",
        "outputId": "e1a3afb9-1b62-4284-e917-82169cc2c417"
      },
      "outputs": [
        {
          "name": "stdout",
          "output_type": "stream",
          "text": [
            "John McCain | opposed | bankruptcy protections\n",
            "bankruptcy protections | for | families\n",
            "families | in bankruptcy | because of medical expenses\n",
            "medical expenses | could not | pay\n"
          ]
        }
      ],
      "source": [
        "print(statement_triple[0])"
      ]
    },
    {
      "cell_type": "code",
      "execution_count": null,
      "id": "0f97a2d1",
      "metadata": {
        "id": "0f97a2d1",
        "outputId": "3d993cd2-eb00-4ad0-81f6-92a34cd2d461",
        "colab": {
          "referenced_widgets": [
            "d561ed4e64ec434f8f192ea5d30c8544"
          ]
        }
      },
      "outputs": [
        {
          "data": {
            "application/vnd.jupyter.widget-view+json": {
              "model_id": "d561ed4e64ec434f8f192ea5d30c8544",
              "version_major": 2,
              "version_minor": 0
            },
            "text/plain": [
              "Processing statements:   0%|          | 0/1186 [00:00<?, ?it/s]"
            ]
          },
          "metadata": {},
          "output_type": "display_data"
        }
      ],
      "source": [
        "# Assuming 'dat' is your DataFrame and 'triple' is your function.\n",
        "text_triple = dat['text'].progress_apply(triple)"
      ]
    },
    {
      "cell_type": "code",
      "execution_count": null,
      "id": "9c947841",
      "metadata": {
        "id": "9c947841",
        "outputId": "a14c62ab-3f11-457a-f9c5-cb82b13cc2f1"
      },
      "outputs": [
        {
          "data": {
            "text/plain": [
              "0        Sen. Barack Obama | portrayed | Sen. John McCa...\n",
              "31       David Alameel | is | Democratic nominee\\nDavid...\n",
              "93       Georgia senators | opposed | controversial bil...\n",
              "108      Lt. Gov. Jeff Kottkamp | is | a Republican run...\n",
              "122      Gov. Chris Christie | said | Mitt Romney would...\n",
              "                               ...                        \n",
              "21125    Republican presidential candidate Rick Santoru...\n",
              "21128    Lyndon B. Johnson | predecessor | President of...\n",
              "21129    Leticia Van de Putte | affiliation | Democrat\\...\n",
              "21136    Republican Party of Texas | had leading war cr...\n",
              "21144    Hillary Clinton | argued against | doing away ...\n",
              "Name: text, Length: 1186, dtype: object"
            ]
          },
          "execution_count": 54,
          "metadata": {},
          "output_type": "execute_result"
        }
      ],
      "source": [
        "text_triple"
      ]
    },
    {
      "cell_type": "code",
      "execution_count": null,
      "id": "6a0520f5",
      "metadata": {
        "id": "6a0520f5",
        "outputId": "570bbd1f-0d2e-43a6-870d-f8cd6851b700"
      },
      "outputs": [
        {
          "name": "stdout",
          "output_type": "stream",
          "text": [
            "Sen. Barack Obama | portrayed | Sen. John McCain as insensitive\n",
            "Sen. John McCain | supported | 2005 law\n",
            "2005 law | made | it more difficult for personal bankruptcy filers to escape debts\n",
            "Sen. Barack Obama | used | June 11, 2008 speech\n",
            "June 11, 2008 speech | to highlight | Sen. John McCain's support\n",
            "Sen. Barack Obama | noted | Sen. John McCain's opposition\n",
            "Sen. John McCain's opposition | was to | effort to exempt individuals with medical expenses\n",
            "Sen. John McCain | sided with | credit card companies\n",
            "Sen. Barack Obama | fought against | credit card industry's bankruptcy bill\n",
            "credit card industry's bankruptcy bill | made | it harder for working families to climb out of debt\n",
            "Sen. John McCain | supported | credit card industry's bankruptcy bill\n",
            "Sen. John McCain | opposed | exempting families with bankruptcy due to medical expenses\n",
            "2005 measure | created | means test\n",
            "means test | designed to force | more consumers to file under Chapter 13\n",
            "Chapter 7 | allows | individuals to have much debt erased\n",
            "Chapter 13 | requires | debtors to repay debts over several years\n",
            "financial service industry | had | eight-year lobbying effort\n",
            "Democrats | branded | 2005 law as a sweetheart deal for credit card companies\n",
            "Edward M. Kennedy | led | Democrats\n",
            "Richard J. Durbin | led | Democrats\n",
            "Republicans | rejected | Kennedy's amendment\n",
            "Kennedy's amendment | would exempt | debtors with financial problems caused by medical expenses\n",
            "54 Republicans | voted against | Kennedy's amendment\n",
            "Sen. John McCain | voted against | Kennedy's amendment\n",
            "Kennedy's amendment | was rejected | by a vote of 39-58\n",
            "Sen. Barack Obama | voted for | Kennedy's amendment\n",
            "James M. Jeffords | voted for | Kennedy's amendment\n",
            "McCain | did not play | prominent role in bankruptcy law debate\n",
            "vote on Kennedy's amendment | was not | dramatic moment in bankruptcy law life\n",
            "Senate | approached | final vote on bankruptcy bill in February 2005\n",
            "Republican majority | sent to | House a \"clean\" bill without amendments\n",
            "GOP leaders | would not vote on | legislation with amendments\n"
          ]
        }
      ],
      "source": [
        "print(text_triple[0])"
      ]
    },
    {
      "cell_type": "code",
      "execution_count": null,
      "id": "e2956afc",
      "metadata": {
        "id": "e2956afc"
      },
      "outputs": [],
      "source": [
        "dat['statement_triples'] = statement_triple"
      ]
    },
    {
      "cell_type": "code",
      "execution_count": null,
      "id": "d4dab8aa",
      "metadata": {
        "id": "d4dab8aa"
      },
      "outputs": [],
      "source": [
        "dat['text_triples'] = text_triple"
      ]
    },
    {
      "cell_type": "code",
      "execution_count": null,
      "id": "864136f7",
      "metadata": {
        "id": "864136f7",
        "outputId": "9d2654ea-e44e-44e9-ad65-49ac6f94a712"
      },
      "outputs": [
        {
          "data": {
            "text/html": [
              "<div>\n",
              "<style scoped>\n",
              "    .dataframe tbody tr th:only-of-type {\n",
              "        vertical-align: middle;\n",
              "    }\n",
              "\n",
              "    .dataframe tbody tr th {\n",
              "        vertical-align: top;\n",
              "    }\n",
              "\n",
              "    .dataframe thead th {\n",
              "        text-align: right;\n",
              "    }\n",
              "</style>\n",
              "<table border=\"1\" class=\"dataframe\">\n",
              "  <thead>\n",
              "    <tr style=\"text-align: right;\">\n",
              "      <th></th>\n",
              "      <th>verdict</th>\n",
              "      <th>statement_originator</th>\n",
              "      <th>statement</th>\n",
              "      <th>statement_date</th>\n",
              "      <th>statement_source</th>\n",
              "      <th>factchecker</th>\n",
              "      <th>factcheck_date</th>\n",
              "      <th>factcheck_analysis_link</th>\n",
              "      <th>text</th>\n",
              "      <th>statement_triples</th>\n",
              "      <th>text_triples</th>\n",
              "    </tr>\n",
              "  </thead>\n",
              "  <tbody>\n",
              "    <tr>\n",
              "      <th>0</th>\n",
              "      <td>true</td>\n",
              "      <td>Barack Obama</td>\n",
              "      <td>John McCain opposed bankruptcy protections for...</td>\n",
              "      <td>6/11/2008</td>\n",
              "      <td>speech</td>\n",
              "      <td>Adriel Bettelheim</td>\n",
              "      <td>6/16/2008</td>\n",
              "      <td>https://www.politifact.com/factchecks/2008/jun...</td>\n",
              "      <td>Trying to portray his opponent as insensitive ...</td>\n",
              "      <td>John McCain | opposed | bankruptcy protections...</td>\n",
              "      <td>Sen. Barack Obama | portrayed | Sen. John McCa...</td>\n",
              "    </tr>\n",
              "    <tr>\n",
              "      <th>31</th>\n",
              "      <td>false</td>\n",
              "      <td>David Alameel</td>\n",
              "      <td>Says he lived in a colonia while working as a ...</td>\n",
              "      <td>6/28/2014</td>\n",
              "      <td>speech</td>\n",
              "      <td>W. Gardner Selby</td>\n",
              "      <td>7/2/2014</td>\n",
              "      <td>https://www.politifact.com/factchecks/2014/jul...</td>\n",
              "      <td>David Alameel, the Democratic nominee challeng...</td>\n",
              "      <td>he | lived in | a colonia\\nhe | worked as | a ...</td>\n",
              "      <td>David Alameel | is | Democratic nominee\\nDavid...</td>\n",
              "    </tr>\n",
              "    <tr>\n",
              "      <th>93</th>\n",
              "      <td>false</td>\n",
              "      <td>Georgia state senators</td>\n",
              "      <td>Say easing restrictions on selling alcohol on ...</td>\n",
              "      <td>3/16/2011</td>\n",
              "      <td>speech</td>\n",
              "      <td>Eric Stirgus</td>\n",
              "      <td>3/18/2011</td>\n",
              "      <td>https://www.politifact.com/factchecks/2011/mar...</td>\n",
              "      <td>Some Georgia senators opposed to a controversi...</td>\n",
              "      <td>easing restrictions | results in | more traffi...</td>\n",
              "      <td>Georgia senators | opposed | controversial bil...</td>\n",
              "    </tr>\n",
              "    <tr>\n",
              "      <th>108</th>\n",
              "      <td>true</td>\n",
              "      <td>Jeff Kottkamp</td>\n",
              "      <td>\"I've taken on the federal government and won.\"</td>\n",
              "      <td>7/31/2010</td>\n",
              "      <td>speech</td>\n",
              "      <td>Aaron Sharockman</td>\n",
              "      <td>8/11/2010</td>\n",
              "      <td>https://www.politifact.com/factchecks/2010/aug...</td>\n",
              "      <td>Lt. Gov. Jeff Kottkamp, a Republican running f...</td>\n",
              "      <td>I | have taken on | the federal government\\nI ...</td>\n",
              "      <td>Lt. Gov. Jeff Kottkamp | is | a Republican run...</td>\n",
              "    </tr>\n",
              "    <tr>\n",
              "      <th>122</th>\n",
              "      <td>false</td>\n",
              "      <td>Chris Christie</td>\n",
              "      <td>Says the national health care law puts federal...</td>\n",
              "      <td>8/28/2012</td>\n",
              "      <td>speech</td>\n",
              "      <td>Erin O'Neill</td>\n",
              "      <td>8/30/2012</td>\n",
              "      <td>https://www.politifact.com/factchecks/2012/aug...</td>\n",
              "      <td>The truth can be difficult.So difficult that e...</td>\n",
              "      <td>national health care law | puts | bureaucrats\\...</td>\n",
              "      <td>Gov. Chris Christie | said | Mitt Romney would...</td>\n",
              "    </tr>\n",
              "    <tr>\n",
              "      <th>...</th>\n",
              "      <td>...</td>\n",
              "      <td>...</td>\n",
              "      <td>...</td>\n",
              "      <td>...</td>\n",
              "      <td>...</td>\n",
              "      <td>...</td>\n",
              "      <td>...</td>\n",
              "      <td>...</td>\n",
              "      <td>...</td>\n",
              "      <td>...</td>\n",
              "      <td>...</td>\n",
              "    </tr>\n",
              "    <tr>\n",
              "      <th>21125</th>\n",
              "      <td>false</td>\n",
              "      <td>Rick Santorum</td>\n",
              "      <td>\"President Obama once said he wants everybody ...</td>\n",
              "      <td>2/25/2012</td>\n",
              "      <td>speech</td>\n",
              "      <td>Louis Jacobson</td>\n",
              "      <td>2/27/2012</td>\n",
              "      <td>https://www.politifact.com/factchecks/2012/feb...</td>\n",
              "      <td>Republican presidential candidate Rick Santoru...</td>\n",
              "      <td>President Obama | once said | he wants everybo...</td>\n",
              "      <td>Republican presidential candidate Rick Santoru...</td>\n",
              "    </tr>\n",
              "    <tr>\n",
              "      <th>21128</th>\n",
              "      <td>true</td>\n",
              "      <td>Barack Obama</td>\n",
              "      <td>During Lyndon B. Johnson’s first 20 years in C...</td>\n",
              "      <td>4/10/2014</td>\n",
              "      <td>speech</td>\n",
              "      <td>W. Gardner Selby</td>\n",
              "      <td>4/14/2014</td>\n",
              "      <td>https://www.politifact.com/factchecks/2014/apr...</td>\n",
              "      <td>President Lyndon B. Johnson of Texas was laude...</td>\n",
              "      <td>Lyndon B. Johnson | tenure in Congress | first...</td>\n",
              "      <td>Lyndon B. Johnson | predecessor | President of...</td>\n",
              "    </tr>\n",
              "    <tr>\n",
              "      <th>21129</th>\n",
              "      <td>true</td>\n",
              "      <td>Leticia Van de Putte</td>\n",
              "      <td>Dan Patrick was the only state senator \"who vo...</td>\n",
              "      <td>6/27/2014</td>\n",
              "      <td>speech</td>\n",
              "      <td>W. Gardner Selby</td>\n",
              "      <td>7/3/2014</td>\n",
              "      <td>https://www.politifact.com/factchecks/2014/jul...</td>\n",
              "      <td>Democrat Leticia Van de Putte told her party’s...</td>\n",
              "      <td>Dan Patrick | voted against | Veteran Entrepre...</td>\n",
              "      <td>Leticia Van de Putte | affiliation | Democrat\\...</td>\n",
              "    </tr>\n",
              "    <tr>\n",
              "      <th>21136</th>\n",
              "      <td>false</td>\n",
              "      <td>David Dewhurst</td>\n",
              "      <td>\"Phoenix, Arizona, I'm told, is now the No. 2 ...</td>\n",
              "      <td>6/11/2010</td>\n",
              "      <td>speech</td>\n",
              "      <td>Ciara O'Rourke</td>\n",
              "      <td>6/18/2010</td>\n",
              "      <td>https://www.politifact.com/factchecks/2010/jun...</td>\n",
              "      <td>Curbing illegal immigration was a leading war ...</td>\n",
              "      <td>Phoenix, Arizona | is | No. 2 kidnapping capit...</td>\n",
              "      <td>Republican Party of Texas | had leading war cr...</td>\n",
              "    </tr>\n",
              "    <tr>\n",
              "      <th>21144</th>\n",
              "      <td>false</td>\n",
              "      <td>Hillary Clinton</td>\n",
              "      <td>\"We now have driven (health care) costs down t...</td>\n",
              "      <td>1/17/2016</td>\n",
              "      <td>speech</td>\n",
              "      <td>C. Eugene Emery Jr.</td>\n",
              "      <td>1/18/2016</td>\n",
              "      <td>https://www.politifact.com/factchecks/2016/jan...</td>\n",
              "      <td>During the Jan. 17 Democratic presidential deb...</td>\n",
              "      <td>health care costs | have been driven down | to...</td>\n",
              "      <td>Hillary Clinton | argued against | doing away ...</td>\n",
              "    </tr>\n",
              "  </tbody>\n",
              "</table>\n",
              "<p>1186 rows × 11 columns</p>\n",
              "</div>"
            ],
            "text/plain": [
              "      verdict    statement_originator  \\\n",
              "0        true            Barack Obama   \n",
              "31      false           David Alameel   \n",
              "93      false  Georgia state senators   \n",
              "108      true           Jeff Kottkamp   \n",
              "122     false          Chris Christie   \n",
              "...       ...                     ...   \n",
              "21125   false           Rick Santorum   \n",
              "21128    true            Barack Obama   \n",
              "21129    true    Leticia Van de Putte   \n",
              "21136   false          David Dewhurst   \n",
              "21144   false         Hillary Clinton   \n",
              "\n",
              "                                               statement statement_date  \\\n",
              "0      John McCain opposed bankruptcy protections for...      6/11/2008   \n",
              "31     Says he lived in a colonia while working as a ...      6/28/2014   \n",
              "93     Say easing restrictions on selling alcohol on ...      3/16/2011   \n",
              "108      \"I've taken on the federal government and won.\"      7/31/2010   \n",
              "122    Says the national health care law puts federal...      8/28/2012   \n",
              "...                                                  ...            ...   \n",
              "21125  \"President Obama once said he wants everybody ...      2/25/2012   \n",
              "21128  During Lyndon B. Johnson’s first 20 years in C...      4/10/2014   \n",
              "21129  Dan Patrick was the only state senator \"who vo...      6/27/2014   \n",
              "21136  \"Phoenix, Arizona, I'm told, is now the No. 2 ...      6/11/2010   \n",
              "21144  \"We now have driven (health care) costs down t...      1/17/2016   \n",
              "\n",
              "      statement_source          factchecker factcheck_date  \\\n",
              "0               speech    Adriel Bettelheim      6/16/2008   \n",
              "31              speech     W. Gardner Selby       7/2/2014   \n",
              "93              speech         Eric Stirgus      3/18/2011   \n",
              "108             speech     Aaron Sharockman      8/11/2010   \n",
              "122             speech         Erin O'Neill      8/30/2012   \n",
              "...                ...                  ...            ...   \n",
              "21125           speech       Louis Jacobson      2/27/2012   \n",
              "21128           speech     W. Gardner Selby      4/14/2014   \n",
              "21129           speech     W. Gardner Selby       7/3/2014   \n",
              "21136           speech       Ciara O'Rourke      6/18/2010   \n",
              "21144           speech  C. Eugene Emery Jr.      1/18/2016   \n",
              "\n",
              "                                 factcheck_analysis_link  \\\n",
              "0      https://www.politifact.com/factchecks/2008/jun...   \n",
              "31     https://www.politifact.com/factchecks/2014/jul...   \n",
              "93     https://www.politifact.com/factchecks/2011/mar...   \n",
              "108    https://www.politifact.com/factchecks/2010/aug...   \n",
              "122    https://www.politifact.com/factchecks/2012/aug...   \n",
              "...                                                  ...   \n",
              "21125  https://www.politifact.com/factchecks/2012/feb...   \n",
              "21128  https://www.politifact.com/factchecks/2014/apr...   \n",
              "21129  https://www.politifact.com/factchecks/2014/jul...   \n",
              "21136  https://www.politifact.com/factchecks/2010/jun...   \n",
              "21144  https://www.politifact.com/factchecks/2016/jan...   \n",
              "\n",
              "                                                    text  \\\n",
              "0      Trying to portray his opponent as insensitive ...   \n",
              "31     David Alameel, the Democratic nominee challeng...   \n",
              "93     Some Georgia senators opposed to a controversi...   \n",
              "108    Lt. Gov. Jeff Kottkamp, a Republican running f...   \n",
              "122    The truth can be difficult.So difficult that e...   \n",
              "...                                                  ...   \n",
              "21125  Republican presidential candidate Rick Santoru...   \n",
              "21128  President Lyndon B. Johnson of Texas was laude...   \n",
              "21129  Democrat Leticia Van de Putte told her party’s...   \n",
              "21136  Curbing illegal immigration was a leading war ...   \n",
              "21144  During the Jan. 17 Democratic presidential deb...   \n",
              "\n",
              "                                       statement_triples  \\\n",
              "0      John McCain | opposed | bankruptcy protections...   \n",
              "31     he | lived in | a colonia\\nhe | worked as | a ...   \n",
              "93     easing restrictions | results in | more traffi...   \n",
              "108    I | have taken on | the federal government\\nI ...   \n",
              "122    national health care law | puts | bureaucrats\\...   \n",
              "...                                                  ...   \n",
              "21125  President Obama | once said | he wants everybo...   \n",
              "21128  Lyndon B. Johnson | tenure in Congress | first...   \n",
              "21129  Dan Patrick | voted against | Veteran Entrepre...   \n",
              "21136  Phoenix, Arizona | is | No. 2 kidnapping capit...   \n",
              "21144  health care costs | have been driven down | to...   \n",
              "\n",
              "                                            text_triples  \n",
              "0      Sen. Barack Obama | portrayed | Sen. John McCa...  \n",
              "31     David Alameel | is | Democratic nominee\\nDavid...  \n",
              "93     Georgia senators | opposed | controversial bil...  \n",
              "108    Lt. Gov. Jeff Kottkamp | is | a Republican run...  \n",
              "122    Gov. Chris Christie | said | Mitt Romney would...  \n",
              "...                                                  ...  \n",
              "21125  Republican presidential candidate Rick Santoru...  \n",
              "21128  Lyndon B. Johnson | predecessor | President of...  \n",
              "21129  Leticia Van de Putte | affiliation | Democrat\\...  \n",
              "21136  Republican Party of Texas | had leading war cr...  \n",
              "21144  Hillary Clinton | argued against | doing away ...  \n",
              "\n",
              "[1186 rows x 11 columns]"
            ]
          },
          "execution_count": 59,
          "metadata": {},
          "output_type": "execute_result"
        }
      ],
      "source": [
        "dat"
      ]
    },
    {
      "cell_type": "code",
      "execution_count": null,
      "id": "42fb5c8b",
      "metadata": {
        "id": "42fb5c8b"
      },
      "outputs": [],
      "source": [
        "dat.to_csv(\"politifact_triples.csv\")"
      ]
    }
  ],
  "metadata": {
    "kernelspec": {
      "display_name": "Python 3 (ipykernel)",
      "language": "python",
      "name": "python3"
    },
    "language_info": {
      "codemirror_mode": {
        "name": "ipython",
        "version": 3
      },
      "file_extension": ".py",
      "mimetype": "text/x-python",
      "name": "python",
      "nbconvert_exporter": "python",
      "pygments_lexer": "ipython3",
      "version": "3.10.9"
    },
    "colab": {
      "provenance": []
    }
  },
  "nbformat": 4,
  "nbformat_minor": 5
}